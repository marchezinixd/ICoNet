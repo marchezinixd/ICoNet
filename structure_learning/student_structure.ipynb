{
 "cells": [
  {
   "cell_type": "code",
   "execution_count": 1,
   "metadata": {},
   "outputs": [],
   "source": [
    "import pandas as pd \n",
    "import numpy as np\n",
    "from sklearn.metrics import r2_score\n",
    "import sys\n",
    "import os"
   ]
  },
  {
   "cell_type": "code",
   "execution_count": 2,
   "metadata": {},
   "outputs": [],
   "source": [
    "from sklearn.neural_network import MLPRegressor\n",
    "from sklearn.model_selection import train_test_split\n",
    "import warnings\n",
    "warnings.filterwarnings(\"ignore\")\n",
    "\n",
    "from causalnex.structure import StructureModel\n",
    "from causalnex.structure.notears import from_pandas"
   ]
  },
  {
   "cell_type": "code",
   "execution_count": 3,
   "metadata": {},
   "outputs": [],
   "source": [
    "sm = StructureModel()"
   ]
  },
  {
   "cell_type": "code",
   "execution_count": 4,
   "metadata": {},
   "outputs": [],
   "source": [
    "x = pd.read_csv('../test_tables/structured_student_r.csv')"
   ]
  },
  {
   "cell_type": "code",
   "execution_count": 5,
   "metadata": {},
   "outputs": [],
   "source": [
    "x.fillna(0, inplace=True)"
   ]
  },
  {
   "cell_type": "code",
   "execution_count": 6,
   "metadata": {},
   "outputs": [],
   "source": [
    "data = x\n",
    "data = data[np.logical_not(data['score'].isna())]"
   ]
  },
  {
   "cell_type": "code",
   "execution_count": 7,
   "metadata": {},
   "outputs": [],
   "source": [
    "\n",
    "Y1 = data['weighted_score']/100\n",
    "Y2 = data['score']/100\n",
    "#data['mean'] = np.round(data['mean']/10)\n",
    "\n",
    "#Y2 = data['\"ARTERIAL_DIAS\"']\n",
    "#data.drop(['score', 'weighted_score'] ,axis = 1, inplace = True)\n",
    "X = data\n",
    "X2 = data"
   ]
  },
  {
   "cell_type": "code",
   "execution_count": 8,
   "metadata": {},
   "outputs": [],
   "source": [
    "X_train, X_test, y_train, y_test = train_test_split(\n",
    "     X, Y1, test_size=0.33, random_state=42)"
   ]
  },
  {
   "cell_type": "code",
   "execution_count": 10,
   "metadata": {},
   "outputs": [],
   "source": [
    "\n",
    "sm = from_pandas(X_test, w_threshold = 0.8, max_iter = 5)"
   ]
  },
  {
   "cell_type": "code",
   "execution_count": 18,
   "metadata": {},
   "outputs": [
    {
     "data": {
      "image/png": "[encoded data removed]",
      "text/plain": [
       "<IPython.core.display.Image object>"
      ]
     },
     "execution_count": 18,
     "metadata": {},
     "output_type": "execute_result"
    }
   ],
   "source": [
    "from IPython.display import Image\n",
    "from causalnex.plots import plot_structure, NODE_STYLE, EDGE_STYLE\n",
    "sm.remove_edges_below_threshold(0.8)\n",
    "viz = plot_structure(\n",
    "    sm,\n",
    "    graph_attributes={\"scale\": \"0.5\"},\n",
    "    all_node_attributes=NODE_STYLE.WEAK,\n",
    "    all_edge_attributes=EDGE_STYLE.WEAK)\n",
    "Image(viz.draw(format='png'))"
   ]
  },
  {
   "cell_type": "code",
   "execution_count": 43,
   "metadata": {},
   "outputs": [],
   "source": [
    "vec = []\n",
    "for edge in sm.edges:\n",
    "    if (edge[1])=='score' :\n",
    "        vec.append(edge[0])\n",
    "    if (edge[0])=='score':\n",
    "        vec.append(edge[1])"
   ]
  },
  {
   "cell_type": "code",
   "execution_count": 44,
   "metadata": {},
   "outputs": [
    {
     "data": {
      "text/plain": [
       "['age_band',\n",
       " 'weighted_score',\n",
       " 'first',\n",
       " 'code_module_AAA',\n",
       " 'code_module_BBB',\n",
       " 'code_module_DDD',\n",
       " 'code_module_EEE',\n",
       " 'code_module_FFF',\n",
       " 'code_module_GGG',\n",
       " 'code_presentation_B',\n",
       " 'code_presentation_J',\n",
       " 'gender_F',\n",
       " 'gender_M',\n",
       " 'region_East Anglian Region',\n",
       " 'region_East Midlands Region',\n",
       " 'region_Ireland',\n",
       " 'region_London Region',\n",
       " 'region_North Region',\n",
       " 'region_North Western Region',\n",
       " 'region_Scotland',\n",
       " 'region_South East Region',\n",
       " 'region_South Region',\n",
       " 'region_South West Region',\n",
       " 'region_Wales',\n",
       " 'region_West Midlands Region',\n",
       " 'region_Yorkshire Region',\n",
       " 'highest_education_A Level or Equivalent',\n",
       " 'highest_education_HE Qualification',\n",
       " 'highest_education_Lower Than A Level',\n",
       " 'highest_education_No Formal quals',\n",
       " 'highest_education_Post Graduate Qualification',\n",
       " 'disability_N',\n",
       " 'disability_Y']"
      ]
     },
     "execution_count": 44,
     "metadata": {},
     "output_type": "execute_result"
    }
   ],
   "source": [
    "vec"
   ]
  },
  {
   "cell_type": "code",
   "execution_count": 45,
   "metadata": {},
   "outputs": [],
   "source": [
    "for edge in sm.edges:\n",
    "    if (edge[1])=='weighted_score' :\n",
    "        vec.append(edge[0])\n",
    "    if (edge[0])=='weighted_score':\n",
    "        vec.append(edge[1])\n",
    "    "
   ]
  },
  {
   "cell_type": "code",
   "execution_count": 46,
   "metadata": {},
   "outputs": [
    {
     "data": {
      "text/plain": [
       "['age_band',\n",
       " 'weighted_score',\n",
       " 'first',\n",
       " 'code_module_AAA',\n",
       " 'code_module_BBB',\n",
       " 'code_module_DDD',\n",
       " 'code_module_EEE',\n",
       " 'code_module_FFF',\n",
       " 'code_module_GGG',\n",
       " 'code_presentation_B',\n",
       " 'code_presentation_J',\n",
       " 'gender_F',\n",
       " 'gender_M',\n",
       " 'region_East Anglian Region',\n",
       " 'region_East Midlands Region',\n",
       " 'region_Ireland',\n",
       " 'region_London Region',\n",
       " 'region_North Region',\n",
       " 'region_North Western Region',\n",
       " 'region_Scotland',\n",
       " 'region_South East Region',\n",
       " 'region_South Region',\n",
       " 'region_South West Region',\n",
       " 'region_Wales',\n",
       " 'region_West Midlands Region',\n",
       " 'region_Yorkshire Region',\n",
       " 'highest_education_A Level or Equivalent',\n",
       " 'highest_education_HE Qualification',\n",
       " 'highest_education_Lower Than A Level',\n",
       " 'highest_education_No Formal quals',\n",
       " 'highest_education_Post Graduate Qualification',\n",
       " 'disability_N',\n",
       " 'disability_Y',\n",
       " 'age_band',\n",
       " 'num_of_prev_attempts',\n",
       " 'score',\n",
       " 'code_module_AAA',\n",
       " 'code_module_CCC',\n",
       " 'code_module_DDD',\n",
       " 'code_module_EEE',\n",
       " 'code_module_FFF',\n",
       " 'code_module_GGG',\n",
       " 'code_presentation_B',\n",
       " 'code_presentation_J',\n",
       " 'gender_F',\n",
       " 'gender_M',\n",
       " 'region_Ireland',\n",
       " 'region_North Region',\n",
       " 'region_North Western Region',\n",
       " 'region_Scotland',\n",
       " 'region_South Region',\n",
       " 'region_Wales',\n",
       " 'region_Yorkshire Region',\n",
       " 'highest_education_Lower Than A Level',\n",
       " 'highest_education_No Formal quals',\n",
       " 'highest_education_Post Graduate Qualification',\n",
       " 'disability_N',\n",
       " 'disability_Y']"
      ]
     },
     "execution_count": 46,
     "metadata": {},
     "output_type": "execute_result"
    }
   ],
   "source": [
    "vec"
   ]
  },
  {
   "cell_type": "code",
   "execution_count": 47,
   "metadata": {},
   "outputs": [
    {
     "data": {
      "text/plain": [
       "{'age_band',\n",
       " 'code_module_AAA',\n",
       " 'code_module_BBB',\n",
       " 'code_module_CCC',\n",
       " 'code_module_DDD',\n",
       " 'code_module_EEE',\n",
       " 'code_module_FFF',\n",
       " 'code_module_GGG',\n",
       " 'code_presentation_B',\n",
       " 'code_presentation_J',\n",
       " 'disability_N',\n",
       " 'disability_Y',\n",
       " 'first',\n",
       " 'gender_F',\n",
       " 'gender_M',\n",
       " 'highest_education_A Level or Equivalent',\n",
       " 'highest_education_HE Qualification',\n",
       " 'highest_education_Lower Than A Level',\n",
       " 'highest_education_No Formal quals',\n",
       " 'highest_education_Post Graduate Qualification',\n",
       " 'num_of_prev_attempts',\n",
       " 'region_East Anglian Region',\n",
       " 'region_East Midlands Region',\n",
       " 'region_Ireland',\n",
       " 'region_London Region',\n",
       " 'region_North Region',\n",
       " 'region_North Western Region',\n",
       " 'region_Scotland',\n",
       " 'region_South East Region',\n",
       " 'region_South Region',\n",
       " 'region_South West Region',\n",
       " 'region_Wales',\n",
       " 'region_West Midlands Region',\n",
       " 'region_Yorkshire Region',\n",
       " 'score',\n",
       " 'weighted_score'}"
      ]
     },
     "execution_count": 47,
     "metadata": {},
     "output_type": "execute_result"
    }
   ],
   "source": [
    "set(vec)"
   ]
  }
 ],
 "metadata": {
  "kernelspec": {
   "display_name": "Python [conda env:tf36]",
   "language": "python",
   "name": "conda-env-tf36-py"
  },
  "language_info": {
   "codemirror_mode": {
    "name": "ipython",
    "version": 3
   },
   "file_extension": ".py",
   "mimetype": "text/x-python",
   "name": "python",
   "nbconvert_exporter": "python",
   "pygments_lexer": "ipython3",
   "version": "3.6.8"
  }
 },
 "nbformat": 4,
 "nbformat_minor": 2
}
