{
 "cells": [
  {
   "cell_type": "code",
   "execution_count": 1,
   "metadata": {},
   "outputs": [],
   "source": [
    "import pandas as pd \n",
    "import numpy as np\n",
    "from sklearn.metrics import r2_score\n",
    "import sys\n",
    "import os"
   ]
  },
  {
   "cell_type": "code",
   "execution_count": 2,
   "metadata": {},
   "outputs": [],
   "source": [
    "from sklearn.neural_network import MLPRegressor\n",
    "from sklearn.model_selection import train_test_split\n",
    "import warnings\n",
    "warnings.filterwarnings(\"ignore\")\n",
    "\n",
    "from causalnex.structure import StructureModel\n",
    "from causalnex.structure.notears import from_pandas"
   ]
  },
  {
   "cell_type": "code",
   "execution_count": 3,
   "metadata": {},
   "outputs": [],
   "source": [
    "sm = StructureModel()"
   ]
  },
  {
   "cell_type": "code",
   "execution_count": 4,
   "metadata": {},
   "outputs": [],
   "source": [
    "data = pd.read_csv('../test_tables/BD_Demographics_Database_BSI_WhoQol.csv', sep = ',',encoding='latin-1')"
   ]
  },
  {
   "cell_type": "code",
   "execution_count": 5,
   "metadata": {},
   "outputs": [],
   "source": [
    "new_feat = []#list(data.columns)[42:141]\n",
    "new_feat += ['WHOQoL_1','WHOQoL_23','WHOQoL_25','WHOQoL_19','WHOQoL_7','WHOQoL_11',\n",
    "            'WHOQoL_9','WHOQoL_8','WHOQoL_2','WHOQoL_2','WHOQoL_6', 'BSI_9', 'BSI_16', 'BSI_17','BSI_18','BSI_35','BSI_50']"
   ]
  },
  {
   "cell_type": "code",
   "execution_count": 6,
   "metadata": {},
   "outputs": [],
   "source": [
    "result_cols = []\n",
    "for col in data.columns:\n",
    "    if 'whoqol' in col:\n",
    "        result_cols.append(col)\n",
    "    elif 'BSI_' in col and len(col)>6:\n",
    "        result_cols.append(col)\n",
    "bsi = []\n",
    "whoqol = []\n",
    "for col in data.columns:\n",
    "    if 'WQOL' in col:\n",
    "        whoqol.append(col)\n",
    "    elif 'BSI_' in col and len(col)>6:\n",
    "        bsi.append(col)\n",
    "        \n",
    "bsi_feat = []\n",
    "whoqol_feat = []\n",
    "for col in data.columns:\n",
    "    if 'WHOQoL' in col:\n",
    "        whoqol_feat.append(col)\n",
    "    elif 'BSI_' in col and len(col)<=6:\n",
    "        bsi_feat.append(col)"
   ]
  },
  {
   "cell_type": "code",
   "execution_count": 7,
   "metadata": {},
   "outputs": [],
   "source": [
    "\n",
    "data[result_cols] = data[result_cols].replace(' ', np.nan)\n",
    "data = data.replace(' ', np.nan)"
   ]
  },
  {
   "cell_type": "code",
   "execution_count": 8,
   "metadata": {},
   "outputs": [],
   "source": [
    "#data.drop(['ID_covid', 'sample', 'date_created','consent', 'sgID', 'date_birth', 'region','city_br','Occupation_other', 'working_hours','religion_other', 'cceb_class',\n",
    "#'social_support_n_family','social_support_n_friends'],axis = 1, inplace = True)"
   ]
  },
  {
   "cell_type": "code",
   "execution_count": 9,
   "metadata": {},
   "outputs": [],
   "source": [
    "#data[bsi] = data[bsi].apply(lambda x: x.str.replace(',','.'))\n",
    "#data[whoqol] = data[whoqol].apply(lambda x: x.str.replace(',','.'))"
   ]
  },
  {
   "cell_type": "code",
   "execution_count": 10,
   "metadata": {},
   "outputs": [],
   "source": [
    "data[bsi_feat] = data[bsi_feat].astype(float)\n",
    "\n",
    "data[whoqol_feat] = data[whoqol_feat].astype(float)"
   ]
  },
  {
   "cell_type": "code",
   "execution_count": 11,
   "metadata": {},
   "outputs": [
    {
     "name": "stdout",
     "output_type": "stream",
     "text": [
      "database\n",
      "sex\n",
      "education\n",
      "marital_status\n",
      "ethnicity\n",
      "cceb_class\n"
     ]
    }
   ],
   "source": [
    "for col in data.columns:\n",
    "    try:\n",
    "        data[col] = data[col].astype(float)\n",
    "    except:\n",
    "        (print(col))"
   ]
  },
  {
   "cell_type": "code",
   "execution_count": 12,
   "metadata": {},
   "outputs": [],
   "source": [
    "for col in data.columns:\n",
    "    if data[col].nunique()==1:\n",
    "        data.drop(col,inplace = True,axis=1)"
   ]
  },
  {
   "cell_type": "code",
   "execution_count": 13,
   "metadata": {},
   "outputs": [
    {
     "data": {
      "text/plain": [
       "['WQOL.Fisico', 'WQOL.Psicologico', 'WQOL.RSociais', 'WQOL_MAmbiente']"
      ]
     },
     "execution_count": 13,
     "metadata": {},
     "output_type": "execute_result"
    }
   ],
   "source": [
    "whoqol"
   ]
  },
  {
   "cell_type": "code",
   "execution_count": 14,
   "metadata": {},
   "outputs": [],
   "source": [
    "whoqol_feat_filtrada = set(whoqol_feat) - set(['WHOQoL_3','WHOQoL_4','WHOQoL_10','WHOQoL_15','WHOQoL_16','WHOQoL_17','WHOQoL_18'])"
   ]
  },
  {
   "cell_type": "code",
   "execution_count": 15,
   "metadata": {},
   "outputs": [
    {
     "data": {
      "text/plain": [
       "BSI_2     0.648026\n",
       "BSI_7     0.709963\n",
       "BSI_23    0.718463\n",
       "BSI_29    0.706837\n",
       "BSI_30    0.695902\n",
       "BSI_33    0.697546\n",
       "BSI_37    0.768539\n",
       "Name: BSI_Somatization_EB, dtype: float64"
      ]
     },
     "execution_count": 15,
     "metadata": {},
     "output_type": "execute_result"
    }
   ],
   "source": [
    "corr = data.corr()[['BSI_2','BSI_7','BSI_23','BSI_29','BSI_30','BSI_33','BSI_37']]\n",
    "corr.loc['BSI_Somatization_EB']"
   ]
  },
  {
   "cell_type": "code",
   "execution_count": 16,
   "metadata": {},
   "outputs": [
    {
     "data": {
      "text/plain": [
       "WHOQoL_20    0.821576\n",
       "WHOQoL_21    0.807779\n",
       "WHOQoL_22    0.783711\n",
       "Name: WQOL.RSociais, dtype: float64"
      ]
     },
     "execution_count": 16,
     "metadata": {},
     "output_type": "execute_result"
    }
   ],
   "source": [
    "corr = data.corr()[['WHOQoL_20','WHOQoL_21','WHOQoL_22']]\n",
    "corr.loc['WQOL.RSociais']"
   ]
  },
  {
   "cell_type": "code",
   "execution_count": 17,
   "metadata": {},
   "outputs": [
    {
     "data": {
      "text/plain": [
       "WHOQoL_5     0.700694\n",
       "WHOQoL_6     0.728614\n",
       "WHOQoL_7     0.705583\n",
       "WHOQoL_11    0.737199\n",
       "WHOQoL_19    0.825160\n",
       "WHOQoL_26   -0.728383\n",
       "Name: WQOL.Psicologico, dtype: float64"
      ]
     },
     "execution_count": 17,
     "metadata": {},
     "output_type": "execute_result"
    }
   ],
   "source": [
    "corr = data.corr()[['WHOQoL_5','WHOQoL_6','WHOQoL_7','WHOQoL_11','WHOQoL_19','WHOQoL_26']]\n",
    "corr.loc['WQOL.Psicologico']"
   ]
  },
  {
   "cell_type": "code",
   "execution_count": 18,
   "metadata": {},
   "outputs": [
    {
     "data": {
      "text/plain": [
       "['BSI_GSI_EB',\n",
       " 'BSI_Somatization_EB',\n",
       " 'BSI_ObsCom_EB',\n",
       " 'BSI_IntSens_EB',\n",
       " 'BSI_Depression_EB',\n",
       " 'BSI_Anxiety_EB',\n",
       " 'BSI_Hostility_EB',\n",
       " 'BSI_Phobic_EB',\n",
       " 'BSI_Paranoid_EB',\n",
       " 'BSI_Psychoticism_EB']"
      ]
     },
     "execution_count": 18,
     "metadata": {},
     "output_type": "execute_result"
    }
   ],
   "source": [
    "bsi"
   ]
  },
  {
   "cell_type": "code",
   "execution_count": 19,
   "metadata": {},
   "outputs": [],
   "source": [
    "data.fillna(-1, inplace = True)\n",
    "Y1 = data['WQOL_MAmbiente']\n",
    "Y2 = data[whoqol]\n",
    "#data['mean'] = np.round(data['mean']/10)\n",
    "\n",
    "#Y2 = data['\"ARTERIAL_DIAS\"']\n",
    "#data.drop(whoqol + bsi ,axis = 1, inplace = True)\n",
    "X = data[  list(whoqol_feat)  + ['WQOL_MAmbiente']]\n",
    "#X = data[['BSI_9', 'BSI_16', 'BSI_17','BSI_18','BSI_35','BSI_50', 'BSI_Somatization_EB','BSI_1','BSI_12',\n",
    "#             'BSI_19','BSI_38','BSI_45','BSI_49', 'BSI_2','BSI_7','BSI_23','BSI_29','BSI_30','BSI_33','BSI_37']]\n",
    "X2 = data[new_feat]"
   ]
  },
  {
   "cell_type": "code",
   "execution_count": 20,
   "metadata": {},
   "outputs": [],
   "source": [
    "X.to_csv('../test_tables/covid_reduced_WQOLenv_full.csv',index=False,sep=',')"
   ]
  }
 ],
 "metadata": {
  "kernelspec": {
   "display_name": "Python [conda env:tf36]",
   "language": "python",
   "name": "conda-env-tf36-py"
  },
  "language_info": {
   "codemirror_mode": {
    "name": "ipython",
    "version": 3
   },
   "file_extension": ".py",
   "mimetype": "text/x-python",
   "name": "python",
   "nbconvert_exporter": "python",
   "pygments_lexer": "ipython3",
   "version": "3.6.8"
  }
 },
 "nbformat": 4,
 "nbformat_minor": 2
}
