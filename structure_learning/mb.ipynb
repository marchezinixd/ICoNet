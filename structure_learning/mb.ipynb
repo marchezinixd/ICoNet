{
 "cells": [
  {
   "cell_type": "code",
   "execution_count": 1,
   "metadata": {},
   "outputs": [],
   "source": [
    "from pycit.markov_blanket import MarkovBlanket\n",
    "import pandas as pd\n",
    "import numpy as np"
   ]
  },
  {
   "cell_type": "code",
   "execution_count": 2,
   "metadata": {},
   "outputs": [],
   "source": [
    "# specify CI test configuration\n",
    "cit_funcs = {\n",
    "    'it_args': {\n",
    "        'test_args': {\n",
    "            'statistic': 'ksg_mi',\n",
    "            'n_jobs': 1\n",
    "        }\n",
    "    },\n",
    "    'cit_args': {\n",
    "        'test_args': {\n",
    "            'statistic': 'ksg_cmi',\n",
    "            'n_jobs': 1\n",
    "        }\n",
    "    }\n",
    "}"
   ]
  },
  {
   "cell_type": "code",
   "execution_count": 3,
   "metadata": {},
   "outputs": [],
   "source": [
    "X = pd.read_csv('../test_tables/covid_reduced_WQOLPsicologico_full.csv')"
   ]
  },
  {
   "cell_type": "code",
   "execution_count": 4,
   "metadata": {},
   "outputs": [],
   "source": [
    "Y = X['WQOL.Psicologico']\n",
    "X = X.drop('WQOL.Psicologico', axis = 1)"
   ]
  },
  {
   "cell_type": "code",
   "execution_count": 5,
   "metadata": {},
   "outputs": [],
   "source": [
    "Xd3 = []\n",
    "for x in X.values:\n",
    "    Xd3.append([x.tolist()])"
   ]
  },
  {
   "cell_type": "code",
   "execution_count": 6,
   "metadata": {},
   "outputs": [],
   "source": [
    "# find Markov blanket of Y. x_data contains data from predictor variables, X_1,...,X_m\n",
    "mb = MarkovBlanket(np.asarray(Xd3), Y.values, cit_funcs)"
   ]
  },
  {
   "cell_type": "code",
   "execution_count": null,
   "metadata": {},
   "outputs": [],
   "source": [
    "markov_blanket = mb.find_markov_blanket(max_conditioning = 2)"
   ]
  },
  {
   "cell_type": "code",
   "execution_count": null,
   "metadata": {},
   "outputs": [],
   "source": [
    "markov_blanket"
   ]
  }
 ],
 "metadata": {
  "kernelspec": {
   "display_name": "Python [conda env:tf36]",
   "language": "python",
   "name": "conda-env-tf36-py"
  },
  "language_info": {
   "codemirror_mode": {
    "name": "ipython",
    "version": 3
   },
   "file_extension": ".py",
   "mimetype": "text/x-python",
   "name": "python",
   "nbconvert_exporter": "python",
   "pygments_lexer": "ipython3",
   "version": "3.6.8"
  }
 },
 "nbformat": 4,
 "nbformat_minor": 2
}
